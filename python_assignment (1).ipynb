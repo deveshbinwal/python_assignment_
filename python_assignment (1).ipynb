{
 "cells": [
  {
   "cell_type": "markdown",
   "id": "92192a29-e2ee-49be-aa15-cb92eb683602",
   "metadata": {},
   "source": [
    "Q1. How do you comment code in Python? What are the different types of comments?\n"
   ]
  },
  {
   "cell_type": "markdown",
   "id": "716d05fa-ad3b-473d-9567-a5b4a7395d37",
   "metadata": {},
   "source": [
    "Comments in Python is the inclusion of short descriptions along with the code to increase its readability. "
   ]
  },
  {
   "cell_type": "markdown",
   "id": "b424e8a6-2beb-457e-adae-695da3029f71",
   "metadata": {},
   "source": [
    "#Comments in Python are identified with a hash symbol, #, and extend to the end of the line. Hash characters in a string are not considered comments, however. There are three ways to write a comment - as a separate line, beside the corresponding statement of code, or as a multi-line comment block."
   ]
  },
  {
   "cell_type": "markdown",
   "id": "d804805f-e21b-4bb8-9550-db6aa3a84f93",
   "metadata": {},
   "source": [
    "Single line "
   ]
  },
  {
   "cell_type": "markdown",
   "id": "1dc61f44-3e72-4a41-a2d7-16a6617d6c2c",
   "metadata": {},
   "source": [
    "Single-line comments begin with the \"#\" character. Anything that is written in a single line after ‘#’ is considered as a comment.\n"
   ]
  },
  {
   "cell_type": "code",
   "execution_count": 42,
   "id": "7d5f5abb-bb93-4f8e-90b2-b02a758f83e4",
   "metadata": {},
   "outputs": [],
   "source": [
    "#let's take an example of a dictionary\n",
    "details= {\n",
    "'name':'Deva', #name of the user\n",
    "'age':22, #age of the user\n",
    "'course':\"Master's in data science\" #course name \n",
    "}"
   ]
  },
  {
   "cell_type": "code",
   "execution_count": 43,
   "id": "a4593607-c852-4dcf-bdd7-3796a4450874",
   "metadata": {},
   "outputs": [
    {
     "data": {
      "text/plain": [
       "{'name': 'Deva', 'age': 22, 'course': \"Master's in data science\"}"
      ]
     },
     "execution_count": 43,
     "metadata": {},
     "output_type": "execute_result"
    }
   ],
   "source": [
    "details"
   ]
  },
  {
   "cell_type": "markdown",
   "id": "e2529ade-434e-4fc7-a0f8-66d1e7b4d383",
   "metadata": {},
   "source": [
    "Multi-Line Comments"
   ]
  },
  {
   "cell_type": "markdown",
   "id": "4ef0320f-6a5f-420f-83e6-0b62e9b350dd",
   "metadata": {},
   "source": [
    "\n",
    "Python does not support multi-line comments. However, there are multiple ways to overcome this issue. None of these ways are technically multi-line comments, but you can use them as one. The first way is by using # at the beginning of each line of the comment."
   ]
  },
  {
   "cell_type": "code",
   "execution_count": 44,
   "id": "fcd8bfc5-cc10-4b47-8ceb-9307833ef9c2",
   "metadata": {},
   "outputs": [
    {
     "name": "stdout",
     "output_type": "stream",
     "text": [
      "that's how we make multiline comments in python\n"
     ]
    }
   ],
   "source": [
    "#let's write anything\n",
    "#I'm liking this course\n",
    "#and I'm sure that I'll be a data scientist\n",
    "print(\"that's how we make multiline comments in python\")"
   ]
  },
  {
   "cell_type": "code",
   "execution_count": 45,
   "id": "7323d52b-a307-43ea-9d0d-da1d29599fba",
   "metadata": {},
   "outputs": [
    {
     "name": "stdout",
     "output_type": "stream",
     "text": [
      "Multi-line comment\n"
     ]
    }
   ],
   "source": [
    "\"\"\"\n",
    "this is also a way of \n",
    "doing multiline comments\n",
    "\"\"\"\n",
    "print('Multi-line comment')"
   ]
  },
  {
   "cell_type": "code",
   "execution_count": null,
   "id": "04341fc5-d7dd-452c-a211-3b7a98337c60",
   "metadata": {},
   "outputs": [],
   "source": []
  },
  {
   "cell_type": "markdown",
   "id": "a3c6fb2d-f205-41bc-8cbe-671cf5b1d02e",
   "metadata": {},
   "source": [
    "Q2. What are variables in Python? How do you declare and assign values to variables?"
   ]
  },
  {
   "cell_type": "markdown",
   "id": "05223f5b-7dfc-435d-8551-fb0cf54b7053",
   "metadata": {},
   "source": [
    "In Python, variables are used to store data values. They act as containers that hold information which can be accessed and manipulated throughout the program. Variables can store various types of data, including numbers, strings, lists, or more complex objects.\n",
    "\n",
    "To declare and assign values to variables in Python, you can use the following syntax:"
   ]
  },
  {
   "cell_type": "code",
   "execution_count": 46,
   "id": "150b0216-8a40-4ee3-a461-96a585f63db1",
   "metadata": {},
   "outputs": [],
   "source": [
    "first_var = 'Deva'"
   ]
  },
  {
   "cell_type": "code",
   "execution_count": 47,
   "id": "2f8bfc01-0f8c-4a8e-b306-7103754273a3",
   "metadata": {},
   "outputs": [
    {
     "data": {
      "text/plain": [
       "'Deva'"
      ]
     },
     "execution_count": 47,
     "metadata": {},
     "output_type": "execute_result"
    }
   ],
   "source": [
    "first_var"
   ]
  },
  {
   "cell_type": "code",
   "execution_count": 48,
   "id": "221b29b4-23f8-48d8-a517-f4994b2e7b75",
   "metadata": {},
   "outputs": [],
   "source": [
    "name = \"Deva\"\n",
    "age = 22\n",
    "height = 1.75\n",
    "is_student = True\n"
   ]
  },
  {
   "cell_type": "code",
   "execution_count": 49,
   "id": "8633d0ce-6ca4-416d-8d72-4ca47ff1cff5",
   "metadata": {},
   "outputs": [
    {
     "data": {
      "text/plain": [
       "'Deva'"
      ]
     },
     "execution_count": 49,
     "metadata": {},
     "output_type": "execute_result"
    }
   ],
   "source": [
    "name"
   ]
  },
  {
   "cell_type": "code",
   "execution_count": 50,
   "id": "a4de4d17-0625-42db-b175-3bc82a4a2dbf",
   "metadata": {},
   "outputs": [
    {
     "data": {
      "text/plain": [
       "22"
      ]
     },
     "execution_count": 50,
     "metadata": {},
     "output_type": "execute_result"
    }
   ],
   "source": [
    "age"
   ]
  },
  {
   "cell_type": "code",
   "execution_count": 51,
   "id": "72e54c3c-9056-4d83-bb5a-99ef9cb46b9d",
   "metadata": {},
   "outputs": [
    {
     "data": {
      "text/plain": [
       "1.75"
      ]
     },
     "execution_count": 51,
     "metadata": {},
     "output_type": "execute_result"
    }
   ],
   "source": [
    "height"
   ]
  },
  {
   "cell_type": "code",
   "execution_count": 52,
   "id": "dba9f3ab-155c-4db5-93ee-65e617cf58d3",
   "metadata": {},
   "outputs": [
    {
     "data": {
      "text/plain": [
       "True"
      ]
     },
     "execution_count": 52,
     "metadata": {},
     "output_type": "execute_result"
    }
   ],
   "source": [
    "is_student"
   ]
  },
  {
   "cell_type": "code",
   "execution_count": null,
   "id": "081811bc-96ae-4b71-a7fb-534d766f9252",
   "metadata": {},
   "outputs": [],
   "source": []
  },
  {
   "cell_type": "markdown",
   "id": "41575a27-ad7d-4c15-abde-c8aeb909e29c",
   "metadata": {},
   "source": [
    "Q3. How do you convert one data type to another in Python?"
   ]
  },
  {
   "cell_type": "code",
   "execution_count": 53,
   "id": "36407634-f4b5-41d0-bf6d-0f6e262423a5",
   "metadata": {},
   "outputs": [],
   "source": [
    "num=10"
   ]
  },
  {
   "cell_type": "code",
   "execution_count": 54,
   "id": "00fc5d3e-1960-4858-8b33-821de4141bc1",
   "metadata": {},
   "outputs": [],
   "source": [
    "num_1=float(num)"
   ]
  },
  {
   "cell_type": "code",
   "execution_count": 16,
   "id": "0eec02ff-2dc2-4654-9f63-5e587e4be4f7",
   "metadata": {},
   "outputs": [
    {
     "data": {
      "text/plain": [
       "10.0"
      ]
     },
     "execution_count": 16,
     "metadata": {},
     "output_type": "execute_result"
    }
   ],
   "source": [
    "num_1"
   ]
  },
  {
   "cell_type": "code",
   "execution_count": 17,
   "id": "665194ea-3628-4255-bb7e-d878ec002c5f",
   "metadata": {},
   "outputs": [],
   "source": [
    "a=123"
   ]
  },
  {
   "cell_type": "code",
   "execution_count": 19,
   "id": "dfa23824-8c43-46f1-aa01-6d5f9a1596d8",
   "metadata": {},
   "outputs": [],
   "source": [
    "aa=str(a)"
   ]
  },
  {
   "cell_type": "code",
   "execution_count": 20,
   "id": "ae7d721c-1c80-4730-999b-0a0584f6610c",
   "metadata": {},
   "outputs": [
    {
     "data": {
      "text/plain": [
       "'123'"
      ]
     },
     "execution_count": 20,
     "metadata": {},
     "output_type": "execute_result"
    }
   ],
   "source": [
    "aa"
   ]
  },
  {
   "cell_type": "code",
   "execution_count": 23,
   "id": "11279512-fe23-4ac4-b6f9-a7696d925470",
   "metadata": {},
   "outputs": [
    {
     "name": "stdout",
     "output_type": "stream",
     "text": [
      "I am 25 years old.\n",
      "My name is John.\n"
     ]
    }
   ],
   "source": [
    "age = 25\n",
    "age_str = \"I am \" + str(age) + \" years old.\"\n",
    "print(age_str)  # Output: \"I am 25 years old.\"\n",
    "\n",
    "name = \"John\"\n",
    "message = f\"My name is {name}.\"\n",
    "print(message)  # Output: \"My name is John.\"\n"
   ]
  },
  {
   "cell_type": "code",
   "execution_count": null,
   "id": "f7e828be-00fa-48c5-a716-3580cbbc42ce",
   "metadata": {},
   "outputs": [],
   "source": []
  },
  {
   "cell_type": "markdown",
   "id": "5090e217-dd5e-4678-a0a6-ce5826d36f5b",
   "metadata": {},
   "source": [
    "Q4. How do you write and execute a Python script from the command line?"
   ]
  },
  {
   "cell_type": "markdown",
   "id": "79791bb1-621b-489e-bee6-2e7a4a6cc6ea",
   "metadata": {},
   "source": [
    "The most basic and easy way to run a Python script is by using the python command. You need to open a command line and type the word python followed by the path to your script file like this: python first_script.py Hello World! Then you hit the ENTER button from the keyboard, and that's it."
   ]
  },
  {
   "cell_type": "code",
   "execution_count": null,
   "id": "a456b708-b268-4d98-be27-4708c392c01e",
   "metadata": {},
   "outputs": [],
   "source": []
  },
  {
   "cell_type": "markdown",
   "id": "23da3d62-da1c-4287-a804-a1e2d0c98ac5",
   "metadata": {},
   "source": [
    "Q5. Given a list my_list = [1, 2, 3, 4, 5], write the code to slice the list and obtain the sub-list [2, 3]."
   ]
  },
  {
   "cell_type": "code",
   "execution_count": 24,
   "id": "ef26a033-e70c-4054-a9d3-0d8de57990a9",
   "metadata": {},
   "outputs": [],
   "source": [
    "my_list = [1, 2, 3, 4, 5]"
   ]
  },
  {
   "cell_type": "code",
   "execution_count": 25,
   "id": "7b428342-5698-4618-adf9-e4fe5261d1dc",
   "metadata": {},
   "outputs": [
    {
     "data": {
      "text/plain": [
       "[2, 3]"
      ]
     },
     "execution_count": 25,
     "metadata": {},
     "output_type": "execute_result"
    }
   ],
   "source": [
    "my_list[1:3]"
   ]
  },
  {
   "cell_type": "code",
   "execution_count": 26,
   "id": "4162ec9e-aed8-4909-992d-41011644fba0",
   "metadata": {},
   "outputs": [
    {
     "data": {
      "text/plain": [
       "[2, 3]"
      ]
     },
     "execution_count": 26,
     "metadata": {},
     "output_type": "execute_result"
    }
   ],
   "source": [
    "my_list[-4:-2]"
   ]
  },
  {
   "cell_type": "code",
   "execution_count": null,
   "id": "dbf25c00-6055-4a27-8d65-4ee2a711bfaf",
   "metadata": {},
   "outputs": [],
   "source": []
  },
  {
   "cell_type": "markdown",
   "id": "06f213a5-30b3-4924-807b-6eb1eecd0e45",
   "metadata": {},
   "source": [
    "Q6. What is a complex number in mathematics, and how is it represented in Python?"
   ]
  },
  {
   "cell_type": "markdown",
   "id": "fa987582-4f1b-45a6-9206-76f9e56929af",
   "metadata": {},
   "source": [
    "Complex numbers are created from two real numbers. You can create it directly or you can use the complex function. It is written in the form of (x + yj) where x and y are real numbers and j is an imaginary number which is the square root of -1."
   ]
  },
  {
   "cell_type": "code",
   "execution_count": 28,
   "id": "41913279-3336-4e9e-8b7b-f4ed12c00d02",
   "metadata": {},
   "outputs": [],
   "source": [
    "y=3+7j"
   ]
  },
  {
   "cell_type": "code",
   "execution_count": 29,
   "id": "8b02d3bb-652d-4545-9fcb-cf8b87b89288",
   "metadata": {},
   "outputs": [
    {
     "data": {
      "text/plain": [
       "complex"
      ]
     },
     "execution_count": 29,
     "metadata": {},
     "output_type": "execute_result"
    }
   ],
   "source": [
    "type(y)"
   ]
  },
  {
   "cell_type": "code",
   "execution_count": null,
   "id": "b65d5df2-d03b-4d18-b8b6-380723c83306",
   "metadata": {},
   "outputs": [],
   "source": []
  },
  {
   "cell_type": "markdown",
   "id": "c1f436eb-5fc4-4a32-a145-98891d17e701",
   "metadata": {},
   "source": [
    "Q7. What is the correct way to declare a variable named age and assign the value 25 to it?"
   ]
  },
  {
   "cell_type": "code",
   "execution_count": 30,
   "id": "cc357304-3d7c-4b20-a930-7be6871415f9",
   "metadata": {},
   "outputs": [],
   "source": [
    "age=25\n"
   ]
  },
  {
   "cell_type": "code",
   "execution_count": 31,
   "id": "1b095f10-6777-4388-b7fa-728df6e441a5",
   "metadata": {},
   "outputs": [
    {
     "data": {
      "text/plain": [
       "25"
      ]
     },
     "execution_count": 31,
     "metadata": {},
     "output_type": "execute_result"
    }
   ],
   "source": [
    "age"
   ]
  },
  {
   "cell_type": "code",
   "execution_count": null,
   "id": "52f71587-f08b-4236-9a72-0685d9c011de",
   "metadata": {},
   "outputs": [],
   "source": []
  },
  {
   "cell_type": "markdown",
   "id": "f78434de-2d1a-4021-b51a-454be195c120",
   "metadata": {},
   "source": [
    "Q8. Declare a variable named price and assign the value 9.99 to it. What data type does this variable belong to?"
   ]
  },
  {
   "cell_type": "code",
   "execution_count": 32,
   "id": "8e5e46ae-40d4-4d96-b44b-f9e84ca8eadc",
   "metadata": {},
   "outputs": [],
   "source": [
    "price=9.99"
   ]
  },
  {
   "cell_type": "code",
   "execution_count": 33,
   "id": "6628aed5-760f-4b10-87f8-6407e83904c4",
   "metadata": {},
   "outputs": [
    {
     "data": {
      "text/plain": [
       "float"
      ]
     },
     "execution_count": 33,
     "metadata": {},
     "output_type": "execute_result"
    }
   ],
   "source": [
    "type(price)"
   ]
  },
  {
   "cell_type": "code",
   "execution_count": 34,
   "id": "63d43e6c-bbad-4c86-977b-eab985f9a9ae",
   "metadata": {},
   "outputs": [],
   "source": [
    "#variable named price belong to float data type."
   ]
  },
  {
   "cell_type": "code",
   "execution_count": null,
   "id": "33628445-9a83-47f6-a453-bcfaeb879d70",
   "metadata": {},
   "outputs": [],
   "source": []
  },
  {
   "cell_type": "markdown",
   "id": "98a8af6a-1ef2-4be4-b268-1b9dd2833b24",
   "metadata": {},
   "source": [
    "Q9. Create a variable named name and assign your full name to it as a string. How would you print the\n",
    "value of this variable?"
   ]
  },
  {
   "cell_type": "code",
   "execution_count": 35,
   "id": "f46700bf-e9f1-4b5a-b390-a1569448d7ab",
   "metadata": {},
   "outputs": [],
   "source": [
    "name='Devesh Binwal'"
   ]
  },
  {
   "cell_type": "code",
   "execution_count": 36,
   "id": "8cab41ad-e307-4278-824e-e50d810664fd",
   "metadata": {},
   "outputs": [
    {
     "data": {
      "text/plain": [
       "'Devesh Binwal'"
      ]
     },
     "execution_count": 36,
     "metadata": {},
     "output_type": "execute_result"
    }
   ],
   "source": [
    "name"
   ]
  },
  {
   "cell_type": "code",
   "execution_count": 37,
   "id": "ea5cf172-42e6-40e3-bb00-03d65f0c6cad",
   "metadata": {},
   "outputs": [
    {
     "name": "stdout",
     "output_type": "stream",
     "text": [
      "My name is Devesh Binwal\n"
     ]
    }
   ],
   "source": [
    "print(\"My name is {}\".format(name))"
   ]
  },
  {
   "cell_type": "code",
   "execution_count": null,
   "id": "cd738564-2659-47e4-b854-4c254d90328f",
   "metadata": {},
   "outputs": [],
   "source": []
  },
  {
   "cell_type": "markdown",
   "id": "617e36ff-b8a1-4d36-b856-1cc7e82e1beb",
   "metadata": {},
   "source": [
    "Q10. Given the string \"Hello, World!\", extract the substring \"World\"."
   ]
  },
  {
   "cell_type": "code",
   "execution_count": 38,
   "id": "5631e70e-afe1-4899-ad4c-960113ede3b1",
   "metadata": {},
   "outputs": [],
   "source": [
    "string=\"Hello, World!\""
   ]
  },
  {
   "cell_type": "code",
   "execution_count": 39,
   "id": "d71fd74e-5932-4dcb-8fdb-baea984612b8",
   "metadata": {},
   "outputs": [
    {
     "data": {
      "text/plain": [
       "'World'"
      ]
     },
     "execution_count": 39,
     "metadata": {},
     "output_type": "execute_result"
    }
   ],
   "source": [
    "string[7:12]"
   ]
  },
  {
   "cell_type": "code",
   "execution_count": null,
   "id": "a90ce069-e6f9-4e32-b08a-275c5e9d4af7",
   "metadata": {},
   "outputs": [],
   "source": []
  },
  {
   "cell_type": "markdown",
   "id": "d8e3d920-78da-4359-8b5f-bf2227688f97",
   "metadata": {},
   "source": [
    "Q11. Create a variable named \"is_student\" and assign it a boolean value indicating whether you are\n",
    "currently a student or not."
   ]
  },
  {
   "cell_type": "code",
   "execution_count": 40,
   "id": "eb97e62e-6d82-4175-9841-6f132fd4d605",
   "metadata": {},
   "outputs": [],
   "source": [
    "is_student=True #I'm currently a student"
   ]
  },
  {
   "cell_type": "code",
   "execution_count": 41,
   "id": "1470948e-56e7-4175-ba5e-ad7d384e6caf",
   "metadata": {},
   "outputs": [
    {
     "name": "stdout",
     "output_type": "stream",
     "text": [
      "That's True that you are a student\n"
     ]
    }
   ],
   "source": [
    "print(\"That's {} that you are a student\".format(is_student))"
   ]
  },
  {
   "cell_type": "code",
   "execution_count": null,
   "id": "edf07c17-1832-4466-95d9-30d6b40e78bd",
   "metadata": {},
   "outputs": [],
   "source": []
  }
 ],
 "metadata": {
  "kernelspec": {
   "display_name": "Python 3 (ipykernel)",
   "language": "python",
   "name": "python3"
  },
  "language_info": {
   "codemirror_mode": {
    "name": "ipython",
    "version": 3
   },
   "file_extension": ".py",
   "mimetype": "text/x-python",
   "name": "python",
   "nbconvert_exporter": "python",
   "pygments_lexer": "ipython3",
   "version": "3.10.8"
  }
 },
 "nbformat": 4,
 "nbformat_minor": 5
}
